{
 "cells": [
  {
   "cell_type": "markdown",
   "metadata": {},
   "source": [
    "#### Foundations of Machine Learning Aug-Nov 2024\n",
    "##### Sakshi Badole CS24MTECH11008\n",
    "Question 6: __Gradient Boosting__ on the popular Lending Club dataset "
   ]
  },
  {
   "cell_type": "markdown",
   "metadata": {},
   "source": [
    "Import Statements"
   ]
  },
  {
   "cell_type": "code",
   "execution_count": 22,
   "metadata": {},
   "outputs": [],
   "source": [
    "import pandas as pd\n",
    "import numpy as np\n",
    "import matplotlib.pyplot as plt\n",
    "import seaborn as sns\n",
    "plt.style.use('seaborn-v0_8')\n",
    "sns.set_palette(\"husl\")\n",
    "from sklearn.model_selection import GridSearchCV\n",
    "from sklearn.ensemble import GradientBoostingClassifier\n",
    "from sklearn.tree import DecisionTreeClassifier\n",
    "from sklearn.metrics import accuracy_score, precision_score, recall_score, classification_report\n",
    "%matplotlib inline\n",
    "np.random.seed(42)"
   ]
  },
  {
   "cell_type": "markdown",
   "metadata": {},
   "source": [
    "Read data into pandas dataframes"
   ]
  },
  {
   "cell_type": "code",
   "execution_count": 23,
   "metadata": {},
   "outputs": [],
   "source": [
    "Train_data = pd.read_csv('loan_train.csv', sep=\",\")\n",
    "Test_data = pd.read_csv('loan_test.csv', sep=\",\")"
   ]
  },
  {
   "cell_type": "markdown",
   "metadata": {},
   "source": [
    "#### Data Preprocessing"
   ]
  },
  {
   "cell_type": "code",
   "execution_count": 24,
   "metadata": {},
   "outputs": [
    {
     "name": "stdout",
     "output_type": "stream",
     "text": [
      "        id  member_id  loan_amnt  funded_amnt  funded_amnt_inv        term  \\\n",
      "0   573354     737474      10000        10000       9950.00000   36 months   \n",
      "1   476321     603324      15000        15000      14800.00000   36 months   \n",
      "2   451484     556265       2000         2000       2000.00000   36 months   \n",
      "3  1018129    1246557      35000        35000      33951.84413   60 months   \n",
      "4   800018    1005270      14000        14000      14000.00000   60 months   \n",
      "\n",
      "  int_rate  installment grade sub_grade  ... num_tl_90g_dpd_24m  \\\n",
      "0    7.51%       311.11     A        A4  ...                NaN   \n",
      "1    8.94%       476.58     A        A5  ...                NaN   \n",
      "2   13.57%        67.94     C        C3  ...                NaN   \n",
      "3   20.89%       944.71     F        F1  ...                NaN   \n",
      "4   17.49%       351.64     D        D5  ...                NaN   \n",
      "\n",
      "  num_tl_op_past_12m pct_tl_nvr_dlq  percent_bc_gt_75 pub_rec_bankruptcies  \\\n",
      "0                NaN            NaN               NaN                  0.0   \n",
      "1                NaN            NaN               NaN                  0.0   \n",
      "2                NaN            NaN               NaN                  0.0   \n",
      "3                NaN            NaN               NaN                  2.0   \n",
      "4                NaN            NaN               NaN                  0.0   \n",
      "\n",
      "  tax_liens tot_hi_cred_lim total_bal_ex_mort total_bc_limit  \\\n",
      "0       0.0             NaN               NaN            NaN   \n",
      "1       0.0             NaN               NaN            NaN   \n",
      "2       0.0             NaN               NaN            NaN   \n",
      "3       0.0             NaN               NaN            NaN   \n",
      "4       0.0             NaN               NaN            NaN   \n",
      "\n",
      "  total_il_high_credit_limit  \n",
      "0                        NaN  \n",
      "1                        NaN  \n",
      "2                        NaN  \n",
      "3                        NaN  \n",
      "4                        NaN  \n",
      "\n",
      "[5 rows x 111 columns]\n"
     ]
    }
   ],
   "source": [
    "# Display the first few rows of the training data\n",
    "print(Train_data.head())\n"
   ]
  },
  {
   "cell_type": "code",
   "execution_count": 25,
   "metadata": {},
   "outputs": [
    {
     "name": "stdout",
     "output_type": "stream",
     "text": [
      "                 id     member_id     loan_amnt   funded_amnt  \\\n",
      "count  2.499900e+04  2.499900e+04  24999.000000  24999.000000   \n",
      "mean   6.824732e+05  8.498388e+05  11262.498500  10985.099404   \n",
      "std    2.094886e+05  2.642564e+05   7391.976258   7123.122668   \n",
      "min    5.574200e+04  7.367300e+04    500.000000    500.000000   \n",
      "25%    5.165330e+05  6.672200e+05   5562.500000   5500.000000   \n",
      "50%    6.647370e+05  8.496710e+05  10000.000000  10000.000000   \n",
      "75%    8.355255e+05  1.044732e+06  15000.000000  15000.000000   \n",
      "max    1.076863e+06  1.304884e+06  35000.000000  35000.000000   \n",
      "\n",
      "       funded_amnt_inv   installment    annual_inc           dti  \\\n",
      "count      24999.00000  24999.000000  2.499900e+04  24999.000000   \n",
      "mean       10435.34441    325.506824  6.994135e+04     13.330210   \n",
      "std         7064.11343    206.995053  6.939411e+04      6.651602   \n",
      "min            0.00000     16.080000  4.080000e+03      0.000000   \n",
      "25%         5000.00000    168.640000  4.200000e+04      8.220000   \n",
      "50%         9000.00000    283.200000  6.000000e+04     13.420000   \n",
      "75%        14400.00000    431.250000  8.400000e+04     18.570000   \n",
      "max        35000.00000   1305.190000  6.000000e+06     29.990000   \n",
      "\n",
      "        delinq_2yrs  inq_last_6mths  ...  num_tl_90g_dpd_24m  \\\n",
      "count  24999.000000    24999.000000  ...                 0.0   \n",
      "mean       0.145406        0.868635  ...                 NaN   \n",
      "std        0.494811        1.070605  ...                 NaN   \n",
      "min        0.000000        0.000000  ...                 NaN   \n",
      "25%        0.000000        0.000000  ...                 NaN   \n",
      "50%        0.000000        1.000000  ...                 NaN   \n",
      "75%        0.000000        1.000000  ...                 NaN   \n",
      "max       11.000000        8.000000  ...                 NaN   \n",
      "\n",
      "       num_tl_op_past_12m  pct_tl_nvr_dlq  percent_bc_gt_75  \\\n",
      "count                 0.0             0.0               0.0   \n",
      "mean                  NaN             NaN               NaN   \n",
      "std                   NaN             NaN               NaN   \n",
      "min                   NaN             NaN               NaN   \n",
      "25%                   NaN             NaN               NaN   \n",
      "50%                   NaN             NaN               NaN   \n",
      "75%                   NaN             NaN               NaN   \n",
      "max                   NaN             NaN               NaN   \n",
      "\n",
      "       pub_rec_bankruptcies  tax_liens  tot_hi_cred_lim  total_bal_ex_mort  \\\n",
      "count          24582.000000    24982.0              0.0                0.0   \n",
      "mean               0.041656        0.0              NaN                NaN   \n",
      "std                0.200822        0.0              NaN                NaN   \n",
      "min                0.000000        0.0              NaN                NaN   \n",
      "25%                0.000000        0.0              NaN                NaN   \n",
      "50%                0.000000        0.0              NaN                NaN   \n",
      "75%                0.000000        0.0              NaN                NaN   \n",
      "max                2.000000        0.0              NaN                NaN   \n",
      "\n",
      "       total_bc_limit  total_il_high_credit_limit  \n",
      "count             0.0                         0.0  \n",
      "mean              NaN                         NaN  \n",
      "std               NaN                         NaN  \n",
      "min               NaN                         NaN  \n",
      "25%               NaN                         NaN  \n",
      "50%               NaN                         NaN  \n",
      "75%               NaN                         NaN  \n",
      "max               NaN                         NaN  \n",
      "\n",
      "[8 rows x 87 columns]\n"
     ]
    }
   ],
   "source": [
    "# Display summary statistics\n",
    "print(Train_data.describe())"
   ]
  },
  {
   "cell_type": "code",
   "execution_count": 68,
   "metadata": {},
   "outputs": [
    {
     "name": "stdout",
     "output_type": "stream",
     "text": [
      "id                                0\n",
      "member_id                         0\n",
      "loan_amnt                         0\n",
      "funded_amnt                       0\n",
      "funded_amnt_inv                   0\n",
      "                              ...  \n",
      "tax_liens                        17\n",
      "tot_hi_cred_lim               24999\n",
      "total_bal_ex_mort             24999\n",
      "total_bc_limit                24999\n",
      "total_il_high_credit_limit    24999\n",
      "Length: 111, dtype: int64\n"
     ]
    }
   ],
   "source": [
    "# Check for missing values\n",
    "print(Train_data.isnull().sum())"
   ]
  },
  {
   "cell_type": "code",
   "execution_count": 27,
   "metadata": {},
   "outputs": [],
   "source": [
    "pro_Train_data = Train_data.copy()\n",
    "pro_Test_data = Test_data.copy()"
   ]
  },
  {
   "cell_type": "code",
   "execution_count": 28,
   "metadata": {},
   "outputs": [
    {
     "name": "stdout",
     "output_type": "stream",
     "text": [
      "Data types of features:\n",
      " id                              int64\n",
      "member_id                       int64\n",
      "loan_amnt                       int64\n",
      "funded_amnt                     int64\n",
      "funded_amnt_inv               float64\n",
      "                               ...   \n",
      "tax_liens                     float64\n",
      "tot_hi_cred_lim               float64\n",
      "total_bal_ex_mort             float64\n",
      "total_bc_limit                float64\n",
      "total_il_high_credit_limit    float64\n",
      "Length: 111, dtype: object\n",
      "Categorical columns:\n",
      " Index(['term', 'int_rate', 'grade', 'sub_grade', 'emp_title', 'emp_length',\n",
      "       'home_ownership', 'verification_status', 'issue_d', 'loan_status',\n",
      "       'pymnt_plan', 'url', 'desc', 'purpose', 'title', 'zip_code',\n",
      "       'addr_state', 'earliest_cr_line', 'revol_util', 'initial_list_status',\n",
      "       'last_pymnt_d', 'next_pymnt_d', 'last_credit_pull_d',\n",
      "       'application_type'],\n",
      "      dtype='object')\n",
      "\n",
      "DataFrame Info:\n",
      "<class 'pandas.core.frame.DataFrame'>\n",
      "RangeIndex: 24999 entries, 0 to 24998\n",
      "Columns: 111 entries, id to total_il_high_credit_limit\n",
      "dtypes: float64(74), int64(13), object(24)\n",
      "memory usage: 21.2+ MB\n"
     ]
    }
   ],
   "source": [
    "# Checking data types\n",
    "print(\"Data types of features:\\n\", Train_data.dtypes)\n",
    "\n",
    "categorical_cols = Train_data.select_dtypes(include=['object', 'bool']).columns\n",
    "print(\"Categorical columns:\\n\", categorical_cols)\n",
    "\n",
    "print(\"\\nDataFrame Info:\")\n",
    "Train_data.info()"
   ]
  },
  {
   "cell_type": "code",
   "execution_count": 29,
   "metadata": {},
   "outputs": [
    {
     "data": {
      "image/png": "[encoded data removed]",
      "text/plain": [
       "<Figure size 1000x600 with 1 Axes>"
      ]
     },
     "metadata": {},
     "output_type": "display_data"
    },
    {
     "name": "stdout",
     "output_type": "stream",
     "text": [
      "\n",
      "Class Distribution Percentages:\n",
      "loan_status\n",
      "Fully Paid     83.31\n",
      "Charged Off    13.90\n",
      "Current         2.79\n",
      "Name: proportion, dtype: float64\n"
     ]
    }
   ],
   "source": [
    "plt.figure(figsize=(10, 6))\n",
    "loan_status_counts = Train_data['loan_status'].value_counts()\n",
    "sns.barplot(x=loan_status_counts.index, y=loan_status_counts.values)\n",
    "plt.title('Distribution of Loan Status')\n",
    "plt.xlabel('Loan Status (-1: Charged Off, 1: Fully Paid)')\n",
    "plt.ylabel('Count')\n",
    "plt.show()\n",
    "\n",
    "print(\"\\nClass Distribution Percentages:\")\n",
    "print((Train_data['loan_status'].value_counts(normalize=True) * 100).round(2))\n"
   ]
  },
  {
   "cell_type": "code",
   "execution_count": 30,
   "metadata": {},
   "outputs": [
    {
     "data": {
      "image/png": "[encoded data removed]",
      "text/plain": [
       "<Figure size 1500x800 with 2 Axes>"
      ]
     },
     "metadata": {},
     "output_type": "display_data"
    }
   ],
   "source": [
    "plt.figure(figsize=(15, 8))\n",
    "sns.heatmap(Train_data.isnull(), yticklabels=False, cbar=True, cmap='viridis')\n",
    "plt.title('Missing Value Heatmap')\n",
    "plt.show()"
   ]
  },
  {
   "cell_type": "code",
   "execution_count": 31,
   "metadata": {},
   "outputs": [
    {
     "name": "stdout",
     "output_type": "stream",
     "text": [
      "Missing Value Analysis:\n",
      "                            missing_count  missing_percentage    dtype\n",
      "num_il_tl                           24999              100.00  float64\n",
      "num_bc_sats                         24999              100.00  float64\n",
      "num_bc_tl                           24999              100.00  float64\n",
      "num_actv_bc_tl                      24999              100.00  float64\n",
      "num_accts_ever_120_pd               24999              100.00  float64\n",
      "...                                   ...                 ...      ...\n",
      "revol_util                             29                0.12   object\n",
      "collections_12_mths_ex_med             29                0.12  float64\n",
      "tax_liens                              17                0.07  float64\n",
      "title                                   8                0.03   object\n",
      "emp_title                               6                0.02   object\n",
      "\n",
      "[67 rows x 3 columns]\n"
     ]
    }
   ],
   "source": [
    "missing_stats = pd.DataFrame({\n",
    "        'missing_count': pro_Train_data.isnull().sum(),\n",
    "        'missing_percentage': (pro_Train_data.isnull().sum() / len(pro_Train_data) * 100).round(2)\n",
    "    }).sort_values('missing_percentage', ascending=False)\n",
    "    \n",
    "    # Add dtype information\n",
    "missing_stats['dtype'] = pro_Train_data.dtypes\n",
    "print(\"Missing Value Analysis:\")\n",
    "print(missing_stats[missing_stats['missing_count'] > 0])"
   ]
  },
  {
   "cell_type": "markdown",
   "metadata": {},
   "source": [
    "#### Checking the percent of missing values in each column/feature of __Train data__ and __drop__ the features with ***more than 60 percent*** missing values"
   ]
  },
  {
   "cell_type": "code",
   "execution_count": 32,
   "metadata": {},
   "outputs": [
    {
     "name": "stdout",
     "output_type": "stream",
     "text": [
      "New shape: (24999, 54)\n"
     ]
    }
   ],
   "source": [
    "# Remove columns with too many missing values\n",
    "cols_too_many_missing = missing_stats[\n",
    "    missing_stats['missing_percentage'] > 60\n",
    "].index.tolist()\n",
    "\n",
    "pro_Train_data = pro_Train_data.drop(columns=cols_too_many_missing)\n",
    "print(\"New shape:\", pro_Train_data.shape)"
   ]
  },
  {
   "cell_type": "markdown",
   "metadata": {},
   "source": [
    "#### Dropping the same columns from the Test Data"
   ]
  },
  {
   "cell_type": "code",
   "execution_count": 33,
   "metadata": {},
   "outputs": [
    {
     "name": "stdout",
     "output_type": "stream",
     "text": [
      "New shape: (14718, 54)\n"
     ]
    }
   ],
   "source": [
    "pro_Test_data = pro_Test_data.drop(columns = cols_too_many_missing)\n",
    "print(\"New shape:\", pro_Test_data.shape)"
   ]
  },
  {
   "cell_type": "markdown",
   "metadata": {},
   "source": [
    "#### Mapping Fully-Paid, Charged-off to 1 and -1, and dropping Current from the loan status feature"
   ]
  },
  {
   "cell_type": "code",
   "execution_count": 34,
   "metadata": {},
   "outputs": [
    {
     "name": "stdout",
     "output_type": "stream",
     "text": [
      "Shape after removing current loans: (24301, 54)\n",
      "\n",
      "Class distribution:\n",
      "loan_status\n",
      " 1    20827\n",
      "-1     3474\n",
      "Name: count, dtype: int64\n"
     ]
    }
   ],
   "source": [
    "target_map = {\n",
    "    'Fully Paid': 1,\n",
    "    'Charged Off': -1,\n",
    "    'Current': 0\n",
    "}\n",
    "pro_Train_data['loan_status'] = pro_Train_data['loan_status'].map(target_map)\n",
    "pro_Train_data = pro_Train_data[pro_Train_data['loan_status'] != 0]  # Remove 'Current' loans\n",
    "print(\"Shape after removing current loans:\", pro_Train_data.shape)\n",
    "print(\"\\nClass distribution:\")\n",
    "print(pro_Train_data['loan_status'].value_counts())"
   ]
  },
  {
   "cell_type": "code",
   "execution_count": 35,
   "metadata": {},
   "outputs": [
    {
     "name": "stdout",
     "output_type": "stream",
     "text": [
      "Shape after removing current loans: (14276, 54)\n",
      "\n",
      "Class distribution:\n",
      "loan_status\n",
      " 1    12123\n",
      "-1     2153\n",
      "Name: count, dtype: int64\n"
     ]
    }
   ],
   "source": [
    "pro_Test_data['loan_status'] = pro_Test_data['loan_status'].map(target_map)\n",
    "pro_Test_data = pro_Test_data[pro_Test_data['loan_status'] != 0]  # Remove 'Current' loans\n",
    "print(\"Shape after removing current loans:\", pro_Test_data.shape)\n",
    "print(\"\\nClass distribution:\")\n",
    "print(pro_Test_data['loan_status'].value_counts())"
   ]
  },
  {
   "cell_type": "markdown",
   "metadata": {},
   "source": [
    "#### Checking number of unique values in each feature"
   ]
  },
  {
   "cell_type": "code",
   "execution_count": 36,
   "metadata": {},
   "outputs": [
    {
     "name": "stdout",
     "output_type": "stream",
     "text": [
      "id 24301\n",
      "member_id 24301\n",
      "term 2\n",
      "loan_status 2\n",
      "pymnt_plan 1\n",
      "url 24301\n",
      "initial_list_status 1\n",
      "out_prncp 1\n",
      "out_prncp_inv 1\n",
      "collections_12_mths_ex_med 2\n",
      "policy_code 1\n",
      "application_type 1\n",
      "acc_now_delinq 1\n",
      "chargeoff_within_12_mths 2\n",
      "delinq_amnt 1\n",
      "tax_liens 2\n"
     ]
    }
   ],
   "source": [
    "#Features having only 2 values(including NaN) or all values different\n",
    "for i in pro_Train_data.columns:\n",
    "    if(pro_Train_data[i].nunique(dropna=False) <= 2 or pro_Train_data[i].nunique(dropna=False) == pro_Train_data.shape[0]):\n",
    "        print(i , pro_Train_data[i].nunique(dropna=False))\n"
   ]
  },
  {
   "cell_type": "markdown",
   "metadata": {},
   "source": [
    "#### Checking correlation of numeric features with the target value (loan status)"
   ]
  },
  {
   "cell_type": "code",
   "execution_count": 37,
   "metadata": {},
   "outputs": [
    {
     "name": "stdout",
     "output_type": "stream",
     "text": [
      "\n",
      "Correlations with loan_status:\n",
      "                            correlation\n",
      "open_acc                       0.000698\n",
      "revol_bal                      0.006231\n",
      "total_rec_int                  0.013844\n",
      "delinq_2yrs                    0.013968\n",
      "total_acc                      0.017341\n",
      "installment                    0.026918\n",
      "funded_amnt_inv                0.038255\n",
      "annual_inc                     0.040116\n",
      "member_id                      0.044758\n",
      "dti                            0.046135\n",
      "id                             0.048124\n",
      "pub_rec_bankruptcies           0.050213\n",
      "pub_rec                        0.050736\n",
      "funded_amnt                    0.056209\n",
      "loan_amnt                      0.058606\n",
      "inq_last_6mths                 0.075122\n",
      "total_rec_late_fee             0.170033\n",
      "collection_recovery_fee        0.216374\n",
      "last_pymnt_amnt                0.221733\n",
      "total_pymnt_inv                0.230976\n",
      "total_pymnt                    0.233951\n",
      "total_rec_prncp                0.334436\n",
      "recoveries                     0.340974\n",
      "loan_status                    1.000000\n",
      "out_prncp                           NaN\n",
      "out_prncp_inv                       NaN\n",
      "collections_12_mths_ex_med          NaN\n",
      "policy_code                         NaN\n",
      "acc_now_delinq                      NaN\n",
      "chargeoff_within_12_mths            NaN\n",
      "delinq_amnt                         NaN\n",
      "tax_liens                           NaN\n"
     ]
    }
   ],
   "source": [
    "# Getting all the numeric features\n",
    "numeric_features = pro_Train_data.select_dtypes(include=['float64', 'int64']).columns\n",
    "\n",
    "# Calculate correlation with target variable\n",
    "correlations = pd.DataFrame()\n",
    "\n",
    "correlations['correlation'] = pro_Train_data[numeric_features].corr()['loan_status'].abs()\n",
    "correlations = correlations.sort_values('correlation', ascending=True)\n",
    "\n",
    "print(\"\\nCorrelations with loan_status:\")\n",
    "print(correlations)"
   ]
  },
  {
   "cell_type": "markdown",
   "metadata": {},
   "source": [
    "#### Removing irrelavent columns which doesn't affect the target prediction mmuch"
   ]
  },
  {
   "cell_type": "code",
   "execution_count": 38,
   "metadata": {},
   "outputs": [
    {
     "name": "stdout",
     "output_type": "stream",
     "text": [
      "Shape after dropping irrelevant columns: (24301, 37)\n"
     ]
    }
   ],
   "source": [
    "# Remove irrelevant columns\n",
    "cols_to_drop = [\n",
    "    'id', 'member_id', 'url', 'desc', 'title', 'zip_code',\n",
    "    'funded_amnt', 'funded_amnt_inv',\n",
    "    'out_prncp', 'out_prncp_inv',\n",
    "    'total_pymnt_inv',\n",
    "    'total_rec_late_fee', 'collection_recovery_fee',\n",
    "    'policy_code',\n",
    "    'pymnt_plan',\n",
    "    'initial_list_status','emp_title'\n",
    "]\n",
    "\n",
    "cols_to_drop = [col for col in cols_to_drop if col in pro_Train_data.columns]\n",
    "pro_Train_data = pro_Train_data.drop(columns=cols_to_drop)\n",
    "print(\"Shape after dropping irrelevant columns:\", pro_Train_data.shape)"
   ]
  },
  {
   "cell_type": "code",
   "execution_count": 39,
   "metadata": {},
   "outputs": [
    {
     "name": "stdout",
     "output_type": "stream",
     "text": [
      "New Shape for Test data: (14276, 37)\n"
     ]
    }
   ],
   "source": [
    "pro_Test_data = pro_Test_data.drop(columns = cols_to_drop)\n",
    "print(\"New Shape for Test data:\", pro_Test_data.shape)"
   ]
  },
  {
   "cell_type": "markdown",
   "metadata": {},
   "source": [
    "#### Processing Date columns"
   ]
  },
  {
   "cell_type": "code",
   "execution_count": 40,
   "metadata": {},
   "outputs": [
    {
     "name": "stdout",
     "output_type": "stream",
     "text": [
      "New date-derived columns: ['issue_d_month', 'issue_d_year', 'last_pymnt_d_month', 'last_pymnt_d_year', 'last_credit_pull_d_month', 'last_credit_pull_d_year', 'earliest_cr_line_month', 'earliest_cr_line_year']\n"
     ]
    }
   ],
   "source": [
    "#Process date columns\n",
    "date_columns = ['issue_d', 'last_pymnt_d', 'last_credit_pull_d', 'earliest_cr_line']\n",
    "date_columns = [col for col in date_columns if col in pro_Train_data.columns]\n",
    "\n",
    "for col in date_columns:\n",
    "    pro_Train_data[col] = pd.to_datetime(pro_Train_data[col], format='%d-%b', errors='coerce')\n",
    "    pro_Train_data[f'{col}_month'] = pro_Train_data[col].dt.month\n",
    "    pro_Train_data[f'{col}_year'] = pro_Train_data[col].dt.year\n",
    "    pro_Train_data = pro_Train_data.drop(columns=[col])\n",
    "\n",
    "print(\"New date-derived columns:\", [col for col in pro_Train_data.columns if '_month' in col or '_year' in col])\n"
   ]
  },
  {
   "cell_type": "code",
   "execution_count": 41,
   "metadata": {},
   "outputs": [
    {
     "name": "stdout",
     "output_type": "stream",
     "text": [
      "New date-derived columns for Test data: ['issue_d_month', 'issue_d_year', 'last_pymnt_d_month', 'last_pymnt_d_year', 'last_credit_pull_d_month', 'last_credit_pull_d_year', 'earliest_cr_line_month', 'earliest_cr_line_year']\n"
     ]
    }
   ],
   "source": [
    "date_columns = [col for col in date_columns if col in pro_Test_data.columns]\n",
    "\n",
    "for col in date_columns:\n",
    "    pro_Test_data[col] = pd.to_datetime(pro_Test_data[col], format='%d-%b', errors='coerce')\n",
    "    pro_Test_data[f'{col}_month'] = pro_Test_data[col].dt.month\n",
    "    pro_Test_data[f'{col}_year'] = pro_Test_data[col].dt.year\n",
    "    pro_Test_data = pro_Test_data.drop(columns=[col])\n",
    "\n",
    "print(\"New date-derived columns for Test data:\", [col for col in pro_Test_data.columns if '_month' in col or '_year' in col])\n"
   ]
  },
  {
   "cell_type": "markdown",
   "metadata": {},
   "source": [
    "#### Processing loan term (term) feature "
   ]
  },
  {
   "cell_type": "code",
   "execution_count": 42,
   "metadata": {},
   "outputs": [],
   "source": [
    "# Term Train data\n",
    "if 'term' in pro_Train_data.columns:\n",
    "    pro_Train_data['term'] = pro_Train_data['term'].str.extract(r'(\\d+)').astype(float)\n",
    "\n",
    "# Term\n",
    "if 'term' in pro_Test_data.columns:\n",
    "    pro_Test_data['term'] = pro_Test_data['term'].str.extract(r'(\\d+)').astype(float)"
   ]
  },
  {
   "cell_type": "markdown",
   "metadata": {},
   "source": [
    "#### Processing Interest rate"
   ]
  },
  {
   "cell_type": "code",
   "execution_count": 43,
   "metadata": {},
   "outputs": [],
   "source": [
    "# Interest rate\n",
    "if 'int_rate' in pro_Train_data.columns:\n",
    "    pro_Train_data['int_rate'] = pro_Train_data['int_rate'].str.rstrip('%').astype(float)\n",
    "\n",
    "# Interest rate Test data\n",
    "if 'int_rate' in pro_Test_data.columns:\n",
    "    pro_Test_data['int_rate'] = pro_Test_data['int_rate'].str.rstrip('%').astype(float)"
   ]
  },
  {
   "cell_type": "code",
   "execution_count": 44,
   "metadata": {},
   "outputs": [],
   "source": [
    "# Revolving utilization\n",
    "if 'revol_util' in pro_Train_data.columns:\n",
    "    pro_Train_data['revol_util'] = pro_Train_data['revol_util'].str.rstrip('%').astype(float)\n",
    "\n",
    "# Revolving utilization Test data\n",
    "if 'revol_util' in pro_Test_data.columns:\n",
    "    pro_Test_data['revol_util'] = pro_Test_data['revol_util'].str.rstrip('%').astype(float)"
   ]
  },
  {
   "cell_type": "markdown",
   "metadata": {},
   "source": [
    "#### Processing the employment length"
   ]
  },
  {
   "cell_type": "code",
   "execution_count": 45,
   "metadata": {},
   "outputs": [
    {
     "name": "stdout",
     "output_type": "stream",
     "text": [
      "\n",
      "Numeric columns after processing Train data:\n",
      "['loan_amnt', 'term', 'int_rate', 'installment', 'emp_length', 'annual_inc', 'loan_status', 'dti', 'delinq_2yrs', 'inq_last_6mths', 'open_acc', 'pub_rec', 'revol_bal', 'revol_util', 'total_acc', 'total_pymnt', 'total_rec_prncp', 'total_rec_int', 'recoveries', 'last_pymnt_amnt', 'collections_12_mths_ex_med', 'acc_now_delinq', 'chargeoff_within_12_mths', 'delinq_amnt', 'pub_rec_bankruptcies', 'tax_liens', 'last_pymnt_d_month', 'last_pymnt_d_year', 'earliest_cr_line_month', 'earliest_cr_line_year']\n",
      "\n",
      "Numeric columns after processing Test data:\n",
      "['loan_amnt', 'term', 'int_rate', 'installment', 'emp_length', 'annual_inc', 'loan_status', 'dti', 'delinq_2yrs', 'inq_last_6mths', 'open_acc', 'pub_rec', 'revol_bal', 'revol_util', 'total_acc', 'total_pymnt', 'total_rec_prncp', 'total_rec_int', 'recoveries', 'last_pymnt_amnt', 'collections_12_mths_ex_med', 'acc_now_delinq', 'chargeoff_within_12_mths', 'delinq_amnt', 'pub_rec_bankruptcies', 'tax_liens', 'last_pymnt_d_month', 'last_pymnt_d_year', 'last_credit_pull_d_month', 'last_credit_pull_d_year', 'earliest_cr_line_month', 'earliest_cr_line_year']\n"
     ]
    }
   ],
   "source": [
    "# Employment length\n",
    "if 'emp_length' in pro_Train_data.columns:\n",
    "    emp_length_map = {\n",
    "        '10+ years': 10,\n",
    "        '< 1 year': 0,\n",
    "        '1 year': 1,\n",
    "        '2 years': 2,\n",
    "        '3 years': 3,\n",
    "        '4 years': 4,\n",
    "        '5 years': 5,\n",
    "        '6 years': 6,\n",
    "        '7 years': 7,\n",
    "        '8 years': 8,\n",
    "        '9 years': 9\n",
    "    }\n",
    "    pro_Train_data['emp_length'] = pro_Train_data['emp_length'].map(emp_length_map)\n",
    "\n",
    "print(\"\\nNumeric columns after processing Train data:\")\n",
    "print(pro_Train_data.select_dtypes(include=['float64', 'int64']).columns.tolist())\n",
    "\n",
    "\n",
    "# Employment length Test data\n",
    "if 'emp_length' in pro_Test_data.columns:\n",
    "    emp_length_map = {\n",
    "        '10+ years': 10,\n",
    "        '< 1 year': 0,\n",
    "        '1 year': 1,\n",
    "        '2 years': 2,\n",
    "        '3 years': 3,\n",
    "        '4 years': 4,\n",
    "        '5 years': 5,\n",
    "        '6 years': 6,\n",
    "        '7 years': 7,\n",
    "        '8 years': 8,\n",
    "        '9 years': 9\n",
    "    }\n",
    "    pro_Test_data['emp_length'] = pro_Test_data['emp_length'].map(emp_length_map)\n",
    "\n",
    "print(\"\\nNumeric columns after processing Test data:\")\n",
    "print(pro_Test_data.select_dtypes(include=['float64', 'int64']).columns.tolist())"
   ]
  },
  {
   "cell_type": "markdown",
   "metadata": {},
   "source": [
    "#### Handle remaining missing values"
   ]
  },
  {
   "cell_type": "code",
   "execution_count": 46,
   "metadata": {},
   "outputs": [],
   "source": [
    "# For numeric columns\n",
    "numeric_cols = pro_Train_data.select_dtypes(include=['float64', 'int64']).columns\n",
    "pro_Train_data[numeric_cols] = pro_Train_data[numeric_cols].fillna(pro_Train_data[numeric_cols].median())\n",
    "\n",
    "# For numeric columns\n",
    "numeric_cols_test = pro_Test_data.select_dtypes(include=['float64', 'int64']).columns\n",
    "pro_Test_data[numeric_cols_test] = pro_Test_data[numeric_cols_test].fillna(pro_Test_data[numeric_cols_test].median())\n",
    "\n"
   ]
  },
  {
   "cell_type": "code",
   "execution_count": 47,
   "metadata": {},
   "outputs": [],
   "source": [
    "# For categorical columns\n",
    "categorical_cols = pro_Train_data.select_dtypes(include=['object']).columns\n",
    "for col in categorical_cols:\n",
    "    pro_Train_data[col] = pro_Train_data[col].fillna(pro_Train_data[col].mode()[0])\n",
    "\n",
    "# For categorical columns\n",
    "categorical_cols_test = pro_Test_data.select_dtypes(include=['object']).columns\n",
    "for col in categorical_cols_test:\n",
    "    pro_Test_data[col] = pro_Test_data[col].fillna(pro_Test_data[col].mode()[0])\n"
   ]
  },
  {
   "cell_type": "code",
   "execution_count": 48,
   "metadata": {},
   "outputs": [
    {
     "name": "stdout",
     "output_type": "stream",
     "text": [
      "\n",
      "Missing values after imputation:\n",
      "Train data:  0\n",
      "Test data:  0\n"
     ]
    }
   ],
   "source": [
    "# Verify no missing values remain\n",
    "print(\"\\nMissing values after imputation:\")\n",
    "print(\"Train data: \",pro_Train_data.isnull().sum().sum())\n",
    "\n",
    "print(\"Test data: \",pro_Test_data.isnull().sum().sum())"
   ]
  },
  {
   "cell_type": "code",
   "execution_count": 49,
   "metadata": {},
   "outputs": [
    {
     "data": {
      "text/plain": [
       "Index(['loan_amnt', 'term', 'int_rate', 'installment', 'grade', 'sub_grade',\n",
       "       'emp_length', 'home_ownership', 'annual_inc', 'verification_status',\n",
       "       'loan_status', 'purpose', 'addr_state', 'dti', 'delinq_2yrs',\n",
       "       'inq_last_6mths', 'open_acc', 'pub_rec', 'revol_bal', 'revol_util',\n",
       "       'total_acc', 'total_pymnt', 'total_rec_prncp', 'total_rec_int',\n",
       "       'recoveries', 'last_pymnt_amnt', 'collections_12_mths_ex_med',\n",
       "       'application_type', 'acc_now_delinq', 'chargeoff_within_12_mths',\n",
       "       'delinq_amnt', 'pub_rec_bankruptcies', 'tax_liens', 'issue_d_month',\n",
       "       'issue_d_year', 'last_pymnt_d_month', 'last_pymnt_d_year',\n",
       "       'last_credit_pull_d_month', 'last_credit_pull_d_year',\n",
       "       'earliest_cr_line_month', 'earliest_cr_line_year'],\n",
       "      dtype='object')"
      ]
     },
     "execution_count": 49,
     "metadata": {},
     "output_type": "execute_result"
    }
   ],
   "source": [
    "pro_Train_data.columns"
   ]
  },
  {
   "cell_type": "code",
   "execution_count": 50,
   "metadata": {},
   "outputs": [
    {
     "data": {
      "text/plain": [
       "Index(['loan_amnt', 'term', 'int_rate', 'installment', 'grade', 'sub_grade',\n",
       "       'emp_length', 'home_ownership', 'annual_inc', 'verification_status',\n",
       "       'loan_status', 'purpose', 'addr_state', 'dti', 'delinq_2yrs',\n",
       "       'inq_last_6mths', 'open_acc', 'pub_rec', 'revol_bal', 'revol_util',\n",
       "       'total_acc', 'total_pymnt', 'total_rec_prncp', 'total_rec_int',\n",
       "       'recoveries', 'last_pymnt_amnt', 'collections_12_mths_ex_med',\n",
       "       'application_type', 'acc_now_delinq', 'chargeoff_within_12_mths',\n",
       "       'delinq_amnt', 'pub_rec_bankruptcies', 'tax_liens', 'issue_d_month',\n",
       "       'issue_d_year', 'last_pymnt_d_month', 'last_pymnt_d_year',\n",
       "       'last_credit_pull_d_month', 'last_credit_pull_d_year',\n",
       "       'earliest_cr_line_month', 'earliest_cr_line_year'],\n",
       "      dtype='object')"
      ]
     },
     "execution_count": 50,
     "metadata": {},
     "output_type": "execute_result"
    }
   ],
   "source": [
    "pro_Test_data.columns"
   ]
  },
  {
   "cell_type": "code",
   "execution_count": 51,
   "metadata": {},
   "outputs": [
    {
     "name": "stdout",
     "output_type": "stream",
     "text": [
      "(24301, 41)\n",
      "(14276, 41)\n"
     ]
    }
   ],
   "source": [
    "print(pro_Train_data.shape)\n",
    "print(pro_Test_data.shape)"
   ]
  },
  {
   "cell_type": "markdown",
   "metadata": {},
   "source": [
    "#### One-Hot Encoding the categorical feature columns"
   ]
  },
  {
   "cell_type": "code",
   "execution_count": 52,
   "metadata": {},
   "outputs": [
    {
     "name": "stdout",
     "output_type": "stream",
     "text": [
      "\n",
      "Shape after one-hot encoding Train data: (24301, 142)\n",
      "\n",
      "Shape after one-hot encoding Test data: (14276, 142)\n"
     ]
    }
   ],
   "source": [
    "categorical_cols = ['home_ownership', 'verification_status', 'purpose', 'addr_state', 'grade', 'sub_grade', 'application_type']\n",
    "\n",
    "pro_Train_data = pd.get_dummies(pro_Train_data, columns=categorical_cols, drop_first=True)\n",
    "pro_Test_data = pd.get_dummies(pro_Test_data, columns=categorical_cols, drop_first=True)\n",
    "\n",
    "pro_Train_data, pro_Test_data = pro_Train_data.align(pro_Test_data, join='outer', axis=1, fill_value=0)\n",
    "\n",
    "print(\"\\nShape after one-hot encoding Train data:\", pro_Train_data.shape)\n",
    "print(\"\\nShape after one-hot encoding Test data:\", pro_Test_data.shape)"
   ]
  },
  {
   "cell_type": "markdown",
   "metadata": {},
   "source": [
    "####  Checking the skewness of the numeric columns and standardise them"
   ]
  },
  {
   "cell_type": "code",
   "execution_count": 53,
   "metadata": {},
   "outputs": [
    {
     "name": "stdout",
     "output_type": "stream",
     "text": [
      "Skewness  loan_amnt 1.058863592834336\n",
      "Skewness  term 1.1489459516316003\n",
      "Skewness  installment 1.1330415079895555\n",
      "Skewness  annual_inc 36.43036461891884\n",
      "Skewness  delinq_2yrs 5.308493003653519\n",
      "Skewness  inq_last_6mths 1.3780053502458245\n",
      "Skewness  open_acc 1.0134319901934032\n",
      "Skewness  pub_rec 4.731088116201037\n",
      "Skewness  revol_bal 3.1447823727470747\n",
      "Skewness  total_pymnt 1.348094405097651\n",
      "Skewness  total_rec_prncp 1.1390217649699286\n",
      "Skewness  total_rec_int 2.6710223011555043\n",
      "Skewness  recoveries 16.414017296700305\n",
      "Skewness  last_pymnt_amnt 2.653922488811715\n",
      "Skewness  pub_rec_bankruptcies 4.676633368231324\n",
      "['loan_amnt', 'term', 'installment', 'annual_inc', 'delinq_2yrs', 'inq_last_6mths', 'open_acc', 'pub_rec', 'revol_bal', 'total_pymnt', 'total_rec_prncp', 'total_rec_int', 'recoveries', 'last_pymnt_amnt', 'pub_rec_bankruptcies']\n"
     ]
    },
    {
     "name": "stderr",
     "output_type": "stream",
     "text": [
      "C:\\Users\\sakshi badole\\AppData\\Local\\Temp\\ipykernel_23196\\4238290672.py:5: RuntimeWarning: Precision loss occurred in moment calculation due to catastrophic cancellation. This occurs when the data are nearly identical. Results may be unreliable.\n",
      "  if skew(pro_Train_data[col]) > 1:\n"
     ]
    }
   ],
   "source": [
    "#Checking the skewness of the Train data features\n",
    "from scipy.stats import skew \n",
    "skewed_cols = []\n",
    "for col in numeric_cols:\n",
    "    if skew(pro_Train_data[col]) > 1:\n",
    "        skewed_cols.append(col)\n",
    "        print(\"Skewness \", col, skew(pro_Train_data[col]))\n",
    "\n",
    "print(skewed_cols)\n"
   ]
  },
  {
   "cell_type": "code",
   "execution_count": 54,
   "metadata": {},
   "outputs": [
    {
     "name": "stdout",
     "output_type": "stream",
     "text": [
      "\n",
      "Final shape of Train data: (24301, 142)\n",
      "\n",
      "Final shape of Test data: (14276, 142)\n"
     ]
    }
   ],
   "source": [
    "# Apply feature scaling to highly skewed numeric columns\n",
    "skewed_cols = ['loan_amnt', 'annual_inc', 'revol_bal', 'total_pymnt', \n",
    "               'total_rec_prncp', 'total_rec_int']\n",
    "skewed_cols = [col for col in skewed_cols if col in pro_Train_data.columns]\n",
    "\n",
    "for col in skewed_cols:\n",
    "    if pro_Train_data[col].min() >= 0:  \n",
    "        pro_Train_data[col] = np.log1p(pro_Train_data[col])\n",
    "\n",
    "print(\"\\nFinal shape of Train data:\", pro_Train_data.shape)\n",
    "\n",
    "for col in skewed_cols:\n",
    "    if pro_Test_data[col].min() >= 0:  \n",
    "        pro_Test_data[col] = np.log1p(pro_Test_data[col])\n",
    "\n",
    "print(\"\\nFinal shape of Test data:\", pro_Test_data.shape)\n"
   ]
  },
  {
   "cell_type": "code",
   "execution_count": 55,
   "metadata": {},
   "outputs": [
    {
     "name": "stdout",
     "output_type": "stream",
     "text": [
      "\n",
      "Feature statistics:\n",
      "       acc_now_delinq    annual_inc  chargeoff_within_12_mths  \\\n",
      "count         24301.0  24301.000000                   24301.0   \n",
      "mean              0.0     10.989110                       0.0   \n",
      "std               0.0      0.547243                       0.0   \n",
      "min               0.0      8.314097                       0.0   \n",
      "25%               0.0     10.645449                       0.0   \n",
      "50%               0.0     11.002117                       0.0   \n",
      "75%               0.0     11.338584                       0.0   \n",
      "max               0.0     15.607270                       0.0   \n",
      "\n",
      "       collections_12_mths_ex_med   delinq_2yrs  delinq_amnt           dti  \\\n",
      "count                     24301.0  24301.000000      24301.0  24301.000000   \n",
      "mean                          0.0      0.145426          0.0     13.293911   \n",
      "std                           0.0      0.494832          0.0      6.646290   \n",
      "min                           0.0      0.000000          0.0      0.000000   \n",
      "25%                           0.0      0.000000          0.0      8.180000   \n",
      "50%                           0.0      0.000000          0.0     13.390000   \n",
      "75%                           0.0      0.000000          0.0     18.530000   \n",
      "max                           0.0     11.000000          0.0     29.990000   \n",
      "\n",
      "       earliest_cr_line_month  earliest_cr_line_year    emp_length  ...  \\\n",
      "count            24301.000000                24301.0  24301.000000  ...   \n",
      "mean                 6.946093                 1900.0      4.911897  ...   \n",
      "std                  1.881438                    0.0      3.525699  ...   \n",
      "min                  1.000000                 1900.0      0.000000  ...   \n",
      "25%                  7.000000                 1900.0      2.000000  ...   \n",
      "50%                  7.000000                 1900.0      4.000000  ...   \n",
      "75%                  7.000000                 1900.0      9.000000  ...   \n",
      "max                 12.000000                 1900.0     10.000000  ...   \n",
      "\n",
      "       pub_rec_bankruptcies    recoveries     revol_bal    revol_util  \\\n",
      "count          24301.000000  24301.000000  24301.000000  24301.000000   \n",
      "mean               0.041233    100.174160      8.712933     49.163637   \n",
      "std                0.199659    719.351788      1.885450     28.256339   \n",
      "min                0.000000      0.000000      0.000000      0.000000   \n",
      "25%                0.000000      0.000000      8.241440     25.800000   \n",
      "50%                0.000000      0.000000      9.094593     49.700000   \n",
      "75%                0.000000      0.000000      9.747009     72.700000   \n",
      "max                2.000000  29623.350000     11.915647     99.900000   \n",
      "\n",
      "       tax_liens          term     total_acc   total_pymnt  total_rec_int  \\\n",
      "count    24301.0  24301.000000  24301.000000  24301.000000   24301.000000   \n",
      "mean         0.0     42.022468     22.141393      9.094180       7.141358   \n",
      "std          0.0     10.405459     11.364283      0.859636       1.132450   \n",
      "min          0.0     36.000000      2.000000      0.000000       0.000000   \n",
      "25%          0.0     36.000000     14.000000      8.630394       6.500418   \n",
      "50%          0.0     36.000000     20.000000      9.198775       7.198595   \n",
      "75%          0.0     60.000000     29.000000      9.693085       7.905523   \n",
      "max          0.0     60.000000     79.000000     10.976460      10.063953   \n",
      "\n",
      "       total_rec_prncp  \n",
      "count     24301.000000  \n",
      "mean          8.860566  \n",
      "std           0.973507  \n",
      "min           0.000000  \n",
      "25%           8.455531  \n",
      "50%           8.987322  \n",
      "75%           9.491828  \n",
      "max          10.463132  \n",
      "\n",
      "[8 rows x 35 columns]\n",
      "       acc_now_delinq  addr_state_ME    annual_inc  chargeoff_within_12_mths  \\\n",
      "count         14276.0        14276.0  14276.000000                   14276.0   \n",
      "mean              0.0            0.0     10.935916                       0.0   \n",
      "std               0.0            0.0      0.579070                       0.0   \n",
      "min               0.0            0.0      8.294300                       0.0   \n",
      "25%               0.0            0.0     10.596560                       0.0   \n",
      "50%               0.0            0.0     10.933196                       0.0   \n",
      "75%               0.0            0.0     11.289794                       0.0   \n",
      "max               0.0            0.0     14.038655                       0.0   \n",
      "\n",
      "       collections_12_mths_ex_med   delinq_2yrs  delinq_amnt           dti  \\\n",
      "count                     14276.0  14276.000000      14276.0  14276.000000   \n",
      "mean                          0.0      0.148781          0.0     13.236666   \n",
      "std                           0.0      0.487891          0.0      6.718420   \n",
      "min                           0.0      0.000000          0.0      0.000000   \n",
      "25%                           0.0      0.000000          0.0      8.040000   \n",
      "50%                           0.0      0.000000          0.0     13.300000   \n",
      "75%                           0.0      0.000000          0.0     18.610000   \n",
      "max                           0.0      6.000000          0.0     29.930000   \n",
      "\n",
      "       earliest_cr_line_month  earliest_cr_line_year  ...  \\\n",
      "count            14276.000000                14276.0  ...   \n",
      "mean                 6.941860                 1900.0  ...   \n",
      "std                  1.854039                    0.0  ...   \n",
      "min                  1.000000                 1900.0  ...   \n",
      "25%                  7.000000                 1900.0  ...   \n",
      "50%                  7.000000                 1900.0  ...   \n",
      "75%                  7.000000                 1900.0  ...   \n",
      "max                 12.000000                 1900.0  ...   \n",
      "\n",
      "       pub_rec_bankruptcies    recoveries     revol_bal    revol_util  \\\n",
      "count          14276.000000  14276.000000  14276.000000  14276.000000   \n",
      "mean               0.045181     94.395136      8.646889     47.919426   \n",
      "std                0.208045    661.932804      1.918028     28.482845   \n",
      "min                0.000000      0.000000      0.000000      0.000000   \n",
      "25%                0.000000      0.000000      8.135933     24.200000   \n",
      "50%                0.000000      0.000000      9.049702     48.100000   \n",
      "75%                0.000000      0.000000      9.714911     71.600000   \n",
      "max                2.000000  20006.530000     11.915239     99.900000   \n",
      "\n",
      "       tax_liens          term     total_acc   total_pymnt  total_rec_int  \\\n",
      "count    14276.0  14276.000000  14276.000000  14276.000000   14276.000000   \n",
      "mean         0.0     41.687307     21.901583      9.050909       7.086469   \n",
      "std          0.0     10.205744     11.528753      0.892769       1.150080   \n",
      "min          0.0     36.000000      2.000000      0.000000       0.000000   \n",
      "25%          0.0     36.000000     13.000000      8.583524       6.421602   \n",
      "50%          0.0     36.000000     20.000000      9.142484       7.130859   \n",
      "75%          0.0     36.000000     29.000000      9.678888       7.865530   \n",
      "max          0.0     60.000000     90.000000     10.977887      10.067504   \n",
      "\n",
      "       total_rec_prncp  \n",
      "count     14276.000000  \n",
      "mean          8.820655  \n",
      "std           0.990666  \n",
      "min           0.000000  \n",
      "25%           8.343078  \n",
      "50%           8.987322  \n",
      "75%           9.472782  \n",
      "max          10.463132  \n",
      "\n",
      "[8 rows x 35 columns]\n"
     ]
    }
   ],
   "source": [
    "# Basic feature statistics\n",
    "print(\"\\nFeature statistics:\")\n",
    "print(pro_Train_data.describe())\n",
    "print(pro_Test_data.describe())"
   ]
  },
  {
   "cell_type": "markdown",
   "metadata": {},
   "source": [
    "#### Splitting the Train and Test datasets into Features and Label"
   ]
  },
  {
   "cell_type": "code",
   "execution_count": 56,
   "metadata": {},
   "outputs": [],
   "source": [
    "# features and target variable\n",
    "X_train = pro_Train_data.drop(columns=['loan_status']) \n",
    "y_train = pro_Train_data['loan_status']\n",
    "X_test = pro_Test_data.drop(columns=['loan_status']) \n",
    "y_test = pro_Test_data['loan_status']"
   ]
  },
  {
   "cell_type": "code",
   "execution_count": 57,
   "metadata": {},
   "outputs": [],
   "source": [
    "# Define Helper Functions\n",
    "def evaluate_model(y_true, y_pred, model_name):\n",
    "    \"\"\"Calculate and print performance metrics for a model\"\"\"\n",
    "    accuracy = accuracy_score(y_true, y_pred)\n",
    "    precision = precision_score(y_true, y_pred)\n",
    "    recall = recall_score(y_true, y_pred)\n",
    "    \n",
    "    print(f\"\\n{model_name} Performance Metrics:\")\n",
    "    print(f\"Accuracy: {accuracy:.4f}\")\n",
    "    print(f\"Precision: {precision:.4f}\")\n",
    "    print(f\"Recall: {recall:.4f}\")\n",
    "    print(\"\\nDetailed Classification Report:\")\n",
    "    print(classification_report(y_true, y_pred))\n",
    "    \n",
    "    return accuracy, precision, recall\n",
    "\n",
    "def analyze_n_estimators_effect(X_train, X_test, y_train, y_test):\n",
    "    \"\"\"Analyze the effect of increasing number of trees\"\"\"\n",
    "    n_estimators_range = [10, 50, 100, 200, 500]\n",
    "    results = []\n",
    "    \n",
    "    for n_trees in n_estimators_range:\n",
    "        gb = GradientBoostingClassifier(n_estimators=n_trees, random_state=42)\n",
    "        gb.fit(X_train, y_train)\n",
    "        y_pred = gb.predict(X_test)\n",
    "        accuracy = accuracy_score(y_test, y_pred)\n",
    "        results.append(accuracy)\n",
    "    \n",
    "    plt.figure(figsize=(10, 6))\n",
    "    plt.plot(n_estimators_range, results, marker='o')\n",
    "    plt.xlabel('Number of Trees')\n",
    "    plt.ylabel('Accuracy')\n",
    "    plt.title('Effect of Number of Trees on Model Accuracy')\n",
    "    plt.grid(True)\n",
    "    plt.show()\n",
    "    \n",
    "    return n_estimators_range, results"
   ]
  },
  {
   "cell_type": "markdown",
   "metadata": {},
   "source": [
    "#### Training the Gradient Boosting model"
   ]
  },
  {
   "cell_type": "code",
   "execution_count": 58,
   "metadata": {},
   "outputs": [
    {
     "name": "stdout",
     "output_type": "stream",
     "text": [
      "Starting Grid Search for Gradient Boosting...\n"
     ]
    },
    {
     "data": {
      "text/html": [
       "<style>#sk-container-id-1 {\n",
       "  /* Definition of color scheme common for light and dark mode */\n",
       "  --sklearn-color-text: black;\n",
       "  --sklearn-color-line: gray;\n",
       "  /* Definition of color scheme for unfitted estimators */\n",
       "  --sklearn-color-unfitted-level-0: #fff5e6;\n",
       "  --sklearn-color-unfitted-level-1: #f6e4d2;\n",
       "  --sklearn-color-unfitted-level-2: #ffe0b3;\n",
       "  --sklearn-color-unfitted-level-3: chocolate;\n",
       "  /* Definition of color scheme for fitted estimators */\n",
       "  --sklearn-color-fitted-level-0: #f0f8ff;\n",
       "  --sklearn-color-fitted-level-1: #d4ebff;\n",
       "  --sklearn-color-fitted-level-2: #b3dbfd;\n",
       "  --sklearn-color-fitted-level-3: cornflowerblue;\n",
       "\n",
       "  /* Specific color for light theme */\n",
       "  --sklearn-color-text-on-default-background: var(--sg-text-color, var(--theme-code-foreground, var(--jp-content-font-color1, black)));\n",
       "  --sklearn-color-background: var(--sg-background-color, var(--theme-background, var(--jp-layout-color0, white)));\n",
       "  --sklearn-color-border-box: var(--sg-text-color, var(--theme-code-foreground, var(--jp-content-font-color1, black)));\n",
       "  --sklearn-color-icon: #696969;\n",
       "\n",
       "  @media (prefers-color-scheme: dark) {\n",
       "    /* Redefinition of color scheme for dark theme */\n",
       "    --sklearn-color-text-on-default-background: var(--sg-text-color, var(--theme-code-foreground, var(--jp-content-font-color1, white)));\n",
       "    --sklearn-color-background: var(--sg-background-color, var(--theme-background, var(--jp-layout-color0, #111)));\n",
       "    --sklearn-color-border-box: var(--sg-text-color, var(--theme-code-foreground, var(--jp-content-font-color1, white)));\n",
       "    --sklearn-color-icon: #878787;\n",
       "  }\n",
       "}\n",
       "\n",
       "#sk-container-id-1 {\n",
       "  color: var(--sklearn-color-text);\n",
       "}\n",
       "\n",
       "#sk-container-id-1 pre {\n",
       "  padding: 0;\n",
       "}\n",
       "\n",
       "#sk-container-id-1 input.sk-hidden--visually {\n",
       "  border: 0;\n",
       "  clip: rect(1px 1px 1px 1px);\n",
       "  clip: rect(1px, 1px, 1px, 1px);\n",
       "  height: 1px;\n",
       "  margin: -1px;\n",
       "  overflow: hidden;\n",
       "  padding: 0;\n",
       "  position: absolute;\n",
       "  width: 1px;\n",
       "}\n",
       "\n",
       "#sk-container-id-1 div.sk-dashed-wrapped {\n",
       "  border: 1px dashed var(--sklearn-color-line);\n",
       "  margin: 0 0.4em 0.5em 0.4em;\n",
       "  box-sizing: border-box;\n",
       "  padding-bottom: 0.4em;\n",
       "  background-color: var(--sklearn-color-background);\n",
       "}\n",
       "\n",
       "#sk-container-id-1 div.sk-container {\n",
       "  /* jupyter's `normalize.less` sets `[hidden] { display: none; }`\n",
       "     but bootstrap.min.css set `[hidden] { display: none !important; }`\n",
       "     so we also need the `!important` here to be able to override the\n",
       "     default hidden behavior on the sphinx rendered scikit-learn.org.\n",
       "     See: https://github.com/scikit-learn/scikit-learn/issues/21755 */\n",
       "  display: inline-block !important;\n",
       "  position: relative;\n",
       "}\n",
       "\n",
       "#sk-container-id-1 div.sk-text-repr-fallback {\n",
       "  display: none;\n",
       "}\n",
       "\n",
       "div.sk-parallel-item,\n",
       "div.sk-serial,\n",
       "div.sk-item {\n",
       "  /* draw centered vertical line to link estimators */\n",
       "  background-image: linear-gradient(var(--sklearn-color-text-on-default-background), var(--sklearn-color-text-on-default-background));\n",
       "  background-size: 2px 100%;\n",
       "  background-repeat: no-repeat;\n",
       "  background-position: center center;\n",
       "}\n",
       "\n",
       "/* Parallel-specific style estimator block */\n",
       "\n",
       "#sk-container-id-1 div.sk-parallel-item::after {\n",
       "  content: \"\";\n",
       "  width: 100%;\n",
       "  border-bottom: 2px solid var(--sklearn-color-text-on-default-background);\n",
       "  flex-grow: 1;\n",
       "}\n",
       "\n",
       "#sk-container-id-1 div.sk-parallel {\n",
       "  display: flex;\n",
       "  align-items: stretch;\n",
       "  justify-content: center;\n",
       "  background-color: var(--sklearn-color-background);\n",
       "  position: relative;\n",
       "}\n",
       "\n",
       "#sk-container-id-1 div.sk-parallel-item {\n",
       "  display: flex;\n",
       "  flex-direction: column;\n",
       "}\n",
       "\n",
       "#sk-container-id-1 div.sk-parallel-item:first-child::after {\n",
       "  align-self: flex-end;\n",
       "  width: 50%;\n",
       "}\n",
       "\n",
       "#sk-container-id-1 div.sk-parallel-item:last-child::after {\n",
       "  align-self: flex-start;\n",
       "  width: 50%;\n",
       "}\n",
       "\n",
       "#sk-container-id-1 div.sk-parallel-item:only-child::after {\n",
       "  width: 0;\n",
       "}\n",
       "\n",
       "/* Serial-specific style estimator block */\n",
       "\n",
       "#sk-container-id-1 div.sk-serial {\n",
       "  display: flex;\n",
       "  flex-direction: column;\n",
       "  align-items: center;\n",
       "  background-color: var(--sklearn-color-background);\n",
       "  padding-right: 1em;\n",
       "  padding-left: 1em;\n",
       "}\n",
       "\n",
       "\n",
       "/* Toggleable style: style used for estimator/Pipeline/ColumnTransformer box that is\n",
       "clickable and can be expanded/collapsed.\n",
       "- Pipeline and ColumnTransformer use this feature and define the default style\n",
       "- Estimators will overwrite some part of the style using the `sk-estimator` class\n",
       "*/\n",
       "\n",
       "/* Pipeline and ColumnTransformer style (default) */\n",
       "\n",
       "#sk-container-id-1 div.sk-toggleable {\n",
       "  /* Default theme specific background. It is overwritten whether we have a\n",
       "  specific estimator or a Pipeline/ColumnTransformer */\n",
       "  background-color: var(--sklearn-color-background);\n",
       "}\n",
       "\n",
       "/* Toggleable label */\n",
       "#sk-container-id-1 label.sk-toggleable__label {\n",
       "  cursor: pointer;\n",
       "  display: block;\n",
       "  width: 100%;\n",
       "  margin-bottom: 0;\n",
       "  padding: 0.5em;\n",
       "  box-sizing: border-box;\n",
       "  text-align: center;\n",
       "}\n",
       "\n",
       "#sk-container-id-1 label.sk-toggleable__label-arrow:before {\n",
       "  /* Arrow on the left of the label */\n",
       "  content: \"▸\";\n",
       "  float: left;\n",
       "  margin-right: 0.25em;\n",
       "  color: var(--sklearn-color-icon);\n",
       "}\n",
       "\n",
       "#sk-container-id-1 label.sk-toggleable__label-arrow:hover:before {\n",
       "  color: var(--sklearn-color-text);\n",
       "}\n",
       "\n",
       "/* Toggleable content - dropdown */\n",
       "\n",
       "#sk-container-id-1 div.sk-toggleable__content {\n",
       "  max-height: 0;\n",
       "  max-width: 0;\n",
       "  overflow: hidden;\n",
       "  text-align: left;\n",
       "  /* unfitted */\n",
       "  background-color: var(--sklearn-color-unfitted-level-0);\n",
       "}\n",
       "\n",
       "#sk-container-id-1 div.sk-toggleable__content.fitted {\n",
       "  /* fitted */\n",
       "  background-color: var(--sklearn-color-fitted-level-0);\n",
       "}\n",
       "\n",
       "#sk-container-id-1 div.sk-toggleable__content pre {\n",
       "  margin: 0.2em;\n",
       "  border-radius: 0.25em;\n",
       "  color: var(--sklearn-color-text);\n",
       "  /* unfitted */\n",
       "  background-color: var(--sklearn-color-unfitted-level-0);\n",
       "}\n",
       "\n",
       "#sk-container-id-1 div.sk-toggleable__content.fitted pre {\n",
       "  /* unfitted */\n",
       "  background-color: var(--sklearn-color-fitted-level-0);\n",
       "}\n",
       "\n",
       "#sk-container-id-1 input.sk-toggleable__control:checked~div.sk-toggleable__content {\n",
       "  /* Expand drop-down */\n",
       "  max-height: 200px;\n",
       "  max-width: 100%;\n",
       "  overflow: auto;\n",
       "}\n",
       "\n",
       "#sk-container-id-1 input.sk-toggleable__control:checked~label.sk-toggleable__label-arrow:before {\n",
       "  content: \"▾\";\n",
       "}\n",
       "\n",
       "/* Pipeline/ColumnTransformer-specific style */\n",
       "\n",
       "#sk-container-id-1 div.sk-label input.sk-toggleable__control:checked~label.sk-toggleable__label {\n",
       "  color: var(--sklearn-color-text);\n",
       "  background-color: var(--sklearn-color-unfitted-level-2);\n",
       "}\n",
       "\n",
       "#sk-container-id-1 div.sk-label.fitted input.sk-toggleable__control:checked~label.sk-toggleable__label {\n",
       "  background-color: var(--sklearn-color-fitted-level-2);\n",
       "}\n",
       "\n",
       "/* Estimator-specific style */\n",
       "\n",
       "/* Colorize estimator box */\n",
       "#sk-container-id-1 div.sk-estimator input.sk-toggleable__control:checked~label.sk-toggleable__label {\n",
       "  /* unfitted */\n",
       "  background-color: var(--sklearn-color-unfitted-level-2);\n",
       "}\n",
       "\n",
       "#sk-container-id-1 div.sk-estimator.fitted input.sk-toggleable__control:checked~label.sk-toggleable__label {\n",
       "  /* fitted */\n",
       "  background-color: var(--sklearn-color-fitted-level-2);\n",
       "}\n",
       "\n",
       "#sk-container-id-1 div.sk-label label.sk-toggleable__label,\n",
       "#sk-container-id-1 div.sk-label label {\n",
       "  /* The background is the default theme color */\n",
       "  color: var(--sklearn-color-text-on-default-background);\n",
       "}\n",
       "\n",
       "/* On hover, darken the color of the background */\n",
       "#sk-container-id-1 div.sk-label:hover label.sk-toggleable__label {\n",
       "  color: var(--sklearn-color-text);\n",
       "  background-color: var(--sklearn-color-unfitted-level-2);\n",
       "}\n",
       "\n",
       "/* Label box, darken color on hover, fitted */\n",
       "#sk-container-id-1 div.sk-label.fitted:hover label.sk-toggleable__label.fitted {\n",
       "  color: var(--sklearn-color-text);\n",
       "  background-color: var(--sklearn-color-fitted-level-2);\n",
       "}\n",
       "\n",
       "/* Estimator label */\n",
       "\n",
       "#sk-container-id-1 div.sk-label label {\n",
       "  font-family: monospace;\n",
       "  font-weight: bold;\n",
       "  display: inline-block;\n",
       "  line-height: 1.2em;\n",
       "}\n",
       "\n",
       "#sk-container-id-1 div.sk-label-container {\n",
       "  text-align: center;\n",
       "}\n",
       "\n",
       "/* Estimator-specific */\n",
       "#sk-container-id-1 div.sk-estimator {\n",
       "  font-family: monospace;\n",
       "  border: 1px dotted var(--sklearn-color-border-box);\n",
       "  border-radius: 0.25em;\n",
       "  box-sizing: border-box;\n",
       "  margin-bottom: 0.5em;\n",
       "  /* unfitted */\n",
       "  background-color: var(--sklearn-color-unfitted-level-0);\n",
       "}\n",
       "\n",
       "#sk-container-id-1 div.sk-estimator.fitted {\n",
       "  /* fitted */\n",
       "  background-color: var(--sklearn-color-fitted-level-0);\n",
       "}\n",
       "\n",
       "/* on hover */\n",
       "#sk-container-id-1 div.sk-estimator:hover {\n",
       "  /* unfitted */\n",
       "  background-color: var(--sklearn-color-unfitted-level-2);\n",
       "}\n",
       "\n",
       "#sk-container-id-1 div.sk-estimator.fitted:hover {\n",
       "  /* fitted */\n",
       "  background-color: var(--sklearn-color-fitted-level-2);\n",
       "}\n",
       "\n",
       "/* Specification for estimator info (e.g. \"i\" and \"?\") */\n",
       "\n",
       "/* Common style for \"i\" and \"?\" */\n",
       "\n",
       ".sk-estimator-doc-link,\n",
       "a:link.sk-estimator-doc-link,\n",
       "a:visited.sk-estimator-doc-link {\n",
       "  float: right;\n",
       "  font-size: smaller;\n",
       "  line-height: 1em;\n",
       "  font-family: monospace;\n",
       "  background-color: var(--sklearn-color-background);\n",
       "  border-radius: 1em;\n",
       "  height: 1em;\n",
       "  width: 1em;\n",
       "  text-decoration: none !important;\n",
       "  margin-left: 1ex;\n",
       "  /* unfitted */\n",
       "  border: var(--sklearn-color-unfitted-level-1) 1pt solid;\n",
       "  color: var(--sklearn-color-unfitted-level-1);\n",
       "}\n",
       "\n",
       ".sk-estimator-doc-link.fitted,\n",
       "a:link.sk-estimator-doc-link.fitted,\n",
       "a:visited.sk-estimator-doc-link.fitted {\n",
       "  /* fitted */\n",
       "  border: var(--sklearn-color-fitted-level-1) 1pt solid;\n",
       "  color: var(--sklearn-color-fitted-level-1);\n",
       "}\n",
       "\n",
       "/* On hover */\n",
       "div.sk-estimator:hover .sk-estimator-doc-link:hover,\n",
       ".sk-estimator-doc-link:hover,\n",
       "div.sk-label-container:hover .sk-estimator-doc-link:hover,\n",
       ".sk-estimator-doc-link:hover {\n",
       "  /* unfitted */\n",
       "  background-color: var(--sklearn-color-unfitted-level-3);\n",
       "  color: var(--sklearn-color-background);\n",
       "  text-decoration: none;\n",
       "}\n",
       "\n",
       "div.sk-estimator.fitted:hover .sk-estimator-doc-link.fitted:hover,\n",
       ".sk-estimator-doc-link.fitted:hover,\n",
       "div.sk-label-container:hover .sk-estimator-doc-link.fitted:hover,\n",
       ".sk-estimator-doc-link.fitted:hover {\n",
       "  /* fitted */\n",
       "  background-color: var(--sklearn-color-fitted-level-3);\n",
       "  color: var(--sklearn-color-background);\n",
       "  text-decoration: none;\n",
       "}\n",
       "\n",
       "/* Span, style for the box shown on hovering the info icon */\n",
       ".sk-estimator-doc-link span {\n",
       "  display: none;\n",
       "  z-index: 9999;\n",
       "  position: relative;\n",
       "  font-weight: normal;\n",
       "  right: .2ex;\n",
       "  padding: .5ex;\n",
       "  margin: .5ex;\n",
       "  width: min-content;\n",
       "  min-width: 20ex;\n",
       "  max-width: 50ex;\n",
       "  color: var(--sklearn-color-text);\n",
       "  box-shadow: 2pt 2pt 4pt #999;\n",
       "  /* unfitted */\n",
       "  background: var(--sklearn-color-unfitted-level-0);\n",
       "  border: .5pt solid var(--sklearn-color-unfitted-level-3);\n",
       "}\n",
       "\n",
       ".sk-estimator-doc-link.fitted span {\n",
       "  /* fitted */\n",
       "  background: var(--sklearn-color-fitted-level-0);\n",
       "  border: var(--sklearn-color-fitted-level-3);\n",
       "}\n",
       "\n",
       ".sk-estimator-doc-link:hover span {\n",
       "  display: block;\n",
       "}\n",
       "\n",
       "/* \"?\"-specific style due to the `<a>` HTML tag */\n",
       "\n",
       "#sk-container-id-1 a.estimator_doc_link {\n",
       "  float: right;\n",
       "  font-size: 1rem;\n",
       "  line-height: 1em;\n",
       "  font-family: monospace;\n",
       "  background-color: var(--sklearn-color-background);\n",
       "  border-radius: 1rem;\n",
       "  height: 1rem;\n",
       "  width: 1rem;\n",
       "  text-decoration: none;\n",
       "  /* unfitted */\n",
       "  color: var(--sklearn-color-unfitted-level-1);\n",
       "  border: var(--sklearn-color-unfitted-level-1) 1pt solid;\n",
       "}\n",
       "\n",
       "#sk-container-id-1 a.estimator_doc_link.fitted {\n",
       "  /* fitted */\n",
       "  border: var(--sklearn-color-fitted-level-1) 1pt solid;\n",
       "  color: var(--sklearn-color-fitted-level-1);\n",
       "}\n",
       "\n",
       "/* On hover */\n",
       "#sk-container-id-1 a.estimator_doc_link:hover {\n",
       "  /* unfitted */\n",
       "  background-color: var(--sklearn-color-unfitted-level-3);\n",
       "  color: var(--sklearn-color-background);\n",
       "  text-decoration: none;\n",
       "}\n",
       "\n",
       "#sk-container-id-1 a.estimator_doc_link.fitted:hover {\n",
       "  /* fitted */\n",
       "  background-color: var(--sklearn-color-fitted-level-3);\n",
       "}\n",
       "</style><div id=\"sk-container-id-1\" class=\"sk-top-container\"><div class=\"sk-text-repr-fallback\"><pre>GridSearchCV(cv=5, estimator=GradientBoostingClassifier(random_state=42),\n",
       "             n_jobs=-1,\n",
       "             param_grid={&#x27;learning_rate&#x27;: [0.07, 0.1, 0.3],\n",
       "                         &#x27;max_depth&#x27;: [3, 4, 5], &#x27;min_samples_leaf&#x27;: [1, 2],\n",
       "                         &#x27;min_samples_split&#x27;: [2, 5],\n",
       "                         &#x27;n_estimators&#x27;: [100, 200, 500]},\n",
       "             scoring=&#x27;accuracy&#x27;)</pre><b>In a Jupyter environment, please rerun this cell to show the HTML representation or trust the notebook. <br />On GitHub, the HTML representation is unable to render, please try loading this page with nbviewer.org.</b></div><div class=\"sk-container\" hidden><div class=\"sk-item sk-dashed-wrapped\"><div class=\"sk-label-container\"><div class=\"sk-label fitted sk-toggleable\"><input class=\"sk-toggleable__control sk-hidden--visually\" id=\"sk-estimator-id-1\" type=\"checkbox\" ><label for=\"sk-estimator-id-1\" class=\"sk-toggleable__label fitted sk-toggleable__label-arrow fitted\">&nbsp;&nbsp;GridSearchCV<a class=\"sk-estimator-doc-link fitted\" rel=\"noreferrer\" target=\"_blank\" href=\"https://scikit-learn.org/1.5/modules/generated/sklearn.model_selection.GridSearchCV.html\">?<span>Documentation for GridSearchCV</span></a><span class=\"sk-estimator-doc-link fitted\">i<span>Fitted</span></span></label><div class=\"sk-toggleable__content fitted\"><pre>GridSearchCV(cv=5, estimator=GradientBoostingClassifier(random_state=42),\n",
       "             n_jobs=-1,\n",
       "             param_grid={&#x27;learning_rate&#x27;: [0.07, 0.1, 0.3],\n",
       "                         &#x27;max_depth&#x27;: [3, 4, 5], &#x27;min_samples_leaf&#x27;: [1, 2],\n",
       "                         &#x27;min_samples_split&#x27;: [2, 5],\n",
       "                         &#x27;n_estimators&#x27;: [100, 200, 500]},\n",
       "             scoring=&#x27;accuracy&#x27;)</pre></div> </div></div><div class=\"sk-parallel\"><div class=\"sk-parallel-item\"><div class=\"sk-item\"><div class=\"sk-label-container\"><div class=\"sk-label fitted sk-toggleable\"><input class=\"sk-toggleable__control sk-hidden--visually\" id=\"sk-estimator-id-2\" type=\"checkbox\" ><label for=\"sk-estimator-id-2\" class=\"sk-toggleable__label fitted sk-toggleable__label-arrow fitted\">best_estimator_: GradientBoostingClassifier</label><div class=\"sk-toggleable__content fitted\"><pre>GradientBoostingClassifier(learning_rate=0.3, max_depth=5, min_samples_leaf=2,\n",
       "                           n_estimators=500, random_state=42)</pre></div> </div></div><div class=\"sk-serial\"><div class=\"sk-item\"><div class=\"sk-estimator fitted sk-toggleable\"><input class=\"sk-toggleable__control sk-hidden--visually\" id=\"sk-estimator-id-3\" type=\"checkbox\" ><label for=\"sk-estimator-id-3\" class=\"sk-toggleable__label fitted sk-toggleable__label-arrow fitted\">&nbsp;GradientBoostingClassifier<a class=\"sk-estimator-doc-link fitted\" rel=\"noreferrer\" target=\"_blank\" href=\"https://scikit-learn.org/1.5/modules/generated/sklearn.ensemble.GradientBoostingClassifier.html\">?<span>Documentation for GradientBoostingClassifier</span></a></label><div class=\"sk-toggleable__content fitted\"><pre>GradientBoostingClassifier(learning_rate=0.3, max_depth=5, min_samples_leaf=2,\n",
       "                           n_estimators=500, random_state=42)</pre></div> </div></div></div></div></div></div></div></div></div>"
      ],
      "text/plain": [
       "GridSearchCV(cv=5, estimator=GradientBoostingClassifier(random_state=42),\n",
       "             n_jobs=-1,\n",
       "             param_grid={'learning_rate': [0.07, 0.1, 0.3],\n",
       "                         'max_depth': [3, 4, 5], 'min_samples_leaf': [1, 2],\n",
       "                         'min_samples_split': [2, 5],\n",
       "                         'n_estimators': [100, 200, 500]},\n",
       "             scoring='accuracy')"
      ]
     },
     "execution_count": 58,
     "metadata": {},
     "output_type": "execute_result"
    }
   ],
   "source": [
    "print(\"Starting Grid Search for Gradient Boosting...\")\n",
    "\n",
    "param_grid = {\n",
    "    'n_estimators': [100, 200, 500],\n",
    "    'learning_rate': [0.07, 0.1, 0.3],\n",
    "    'max_depth': [3, 4, 5],\n",
    "    'min_samples_split': [2, 5],\n",
    "    'min_samples_leaf': [1, 2]\n",
    "}\n",
    "\n",
    "gb_clf = GradientBoostingClassifier(random_state=42)\n",
    "grid_search = GridSearchCV(gb_clf, param_grid, cv=5, scoring='accuracy', n_jobs=-1)\n",
    "grid_search.fit(X_train, y_train)"
   ]
  },
  {
   "cell_type": "markdown",
   "metadata": {},
   "source": [
    "#### Best parameters using the grid_search.best_params "
   ]
  },
  {
   "cell_type": "code",
   "execution_count": 59,
   "metadata": {},
   "outputs": [
    {
     "name": "stdout",
     "output_type": "stream",
     "text": [
      "Best Gradient Boosting Parameters:\n",
      "{'learning_rate': 0.3, 'max_depth': 5, 'min_samples_leaf': 2, 'min_samples_split': 2, 'n_estimators': 500}\n",
      "\n",
      "Best Cross-Validation Score: 0.9969960286922961\n"
     ]
    }
   ],
   "source": [
    "# Display Best Parameters\n",
    "print(\"Best Gradient Boosting Parameters:\")\n",
    "print(grid_search.best_params_)\n",
    "print(\"\\nBest Cross-Validation Score:\", grid_search.best_score_)\n"
   ]
  },
  {
   "cell_type": "code",
   "execution_count": 60,
   "metadata": {},
   "outputs": [
    {
     "name": "stdout",
     "output_type": "stream",
     "text": [
      "Training feature names: Index(['acc_now_delinq', 'addr_state_AL', 'addr_state_AR', 'addr_state_AZ',\n",
      "       'addr_state_CA', 'addr_state_CO', 'addr_state_CT', 'addr_state_DC',\n",
      "       'addr_state_DE', 'addr_state_FL',\n",
      "       ...\n",
      "       'sub_grade_G4', 'sub_grade_G5', 'tax_liens', 'term', 'total_acc',\n",
      "       'total_pymnt', 'total_rec_int', 'total_rec_prncp',\n",
      "       'verification_status_Source Verified', 'verification_status_Verified'],\n",
      "      dtype='object', length=141)\n",
      "Test feature names: Index(['acc_now_delinq', 'addr_state_AL', 'addr_state_AR', 'addr_state_AZ',\n",
      "       'addr_state_CA', 'addr_state_CO', 'addr_state_CT', 'addr_state_DC',\n",
      "       'addr_state_DE', 'addr_state_FL',\n",
      "       ...\n",
      "       'sub_grade_G4', 'sub_grade_G5', 'tax_liens', 'term', 'total_acc',\n",
      "       'total_pymnt', 'total_rec_int', 'total_rec_prncp',\n",
      "       'verification_status_Source Verified', 'verification_status_Verified'],\n",
      "      dtype='object', length=141)\n"
     ]
    }
   ],
   "source": [
    "print(\"Training feature names:\", X_train.columns)\n",
    "print(\"Test feature names:\", X_test.columns)"
   ]
  },
  {
   "cell_type": "code",
   "execution_count": 61,
   "metadata": {},
   "outputs": [
    {
     "name": "stdout",
     "output_type": "stream",
     "text": [
      "\n",
      "Gradient Boosting Performance Metrics:\n",
      "Accuracy: 0.9967\n",
      "Precision: 0.9968\n",
      "Recall: 0.9993\n",
      "\n",
      "Detailed Classification Report:\n",
      "              precision    recall  f1-score   support\n",
      "\n",
      "          -1       1.00      0.98      0.99      2153\n",
      "           1       1.00      1.00      1.00     12123\n",
      "\n",
      "    accuracy                           1.00     14276\n",
      "   macro avg       1.00      0.99      0.99     14276\n",
      "weighted avg       1.00      1.00      1.00     14276\n",
      "\n"
     ]
    }
   ],
   "source": [
    "# Get Best Model Predictions\n",
    "best_gb = grid_search.best_estimator_\n",
    "gb_predictions = best_gb.predict(X_test)\n",
    "gb_metrics = evaluate_model(y_test, gb_predictions, \"Gradient Boosting\")"
   ]
  },
  {
   "cell_type": "code",
   "execution_count": 62,
   "metadata": {},
   "outputs": [
    {
     "name": "stdout",
     "output_type": "stream",
     "text": [
      "Analyzing the effect of number of trees...\n"
     ]
    },
    {
     "data": {
      "image/png": "[encoded data removed]",
      "text/plain": [
       "<Figure size 1000x600 with 1 Axes>"
      ]
     },
     "metadata": {},
     "output_type": "display_data"
    }
   ],
   "source": [
    "# Analyze Effect of Number of Trees\n",
    "print(\"Analyzing the effect of number of trees...\")\n",
    "n_estimators_range, tree_results = analyze_n_estimators_effect(X_train, X_test, y_train, y_test)\n"
   ]
  },
  {
   "cell_type": "code",
   "execution_count": 63,
   "metadata": {},
   "outputs": [
    {
     "data": {
      "image/png": "[encoded data removed]",
      "text/plain": [
       "<Figure size 1000x400 with 1 Axes>"
      ]
     },
     "metadata": {},
     "output_type": "display_data"
    }
   ],
   "source": [
    "# Plot Results Table\n",
    "plt.figure(figsize=(10, 4))\n",
    "plt.table(cellText=[[str(n), f\"{acc:.4f}\"] for n, acc in zip(n_estimators_range, tree_results)],\n",
    "         colLabels=['Number of Trees', 'Accuracy'],\n",
    "         loc='center')\n",
    "plt.axis('off')\n",
    "plt.title('Accuracy vs Number of Trees')\n",
    "plt.show()"
   ]
  },
  {
   "cell_type": "code",
   "execution_count": 64,
   "metadata": {},
   "outputs": [
    {
     "name": "stdout",
     "output_type": "stream",
     "text": [
      "Training Decision Tree Classifier...\n",
      "\n",
      "Decision Tree Performance Metrics:\n",
      "Accuracy: 0.9936\n",
      "Precision: 0.9958\n",
      "Recall: 0.9966\n",
      "\n",
      "Detailed Classification Report:\n",
      "              precision    recall  f1-score   support\n",
      "\n",
      "          -1       0.98      0.98      0.98      2153\n",
      "           1       1.00      1.00      1.00     12123\n",
      "\n",
      "    accuracy                           0.99     14276\n",
      "   macro avg       0.99      0.99      0.99     14276\n",
      "weighted avg       0.99      0.99      0.99     14276\n",
      "\n"
     ]
    }
   ],
   "source": [
    "# Decision Tree Classifier\n",
    "print(\"Training Decision Tree Classifier...\")\n",
    "dt_clf = DecisionTreeClassifier(criterion='entropy', random_state=42)  \n",
    "dt_clf.fit(X_train, y_train)\n",
    "dt_predictions = dt_clf.predict(X_test)\n",
    "dt_metrics = evaluate_model(y_test, dt_predictions, \"Decision Tree\")"
   ]
  },
  {
   "cell_type": "code",
   "execution_count": 65,
   "metadata": {},
   "outputs": [
    {
     "name": "stdout",
     "output_type": "stream",
     "text": [
      "\n",
      "Final Comparison:\n",
      "Model       Accuracy  Precision  Recall\n",
      "---------------------------------------------\n",
      "GradBoost   0.9967   0.9968    0.9993\n",
      "DecTree     0.9936   0.9958    0.9966\n"
     ]
    }
   ],
   "source": [
    "# Final Comparison\n",
    "print(\"\\nFinal Comparison:\")\n",
    "print(\"Model       Accuracy  Precision  Recall\")\n",
    "print(\"-\" * 45)\n",
    "print(f\"GradBoost   {gb_metrics[0]:.4f}   {gb_metrics[1]:.4f}    {gb_metrics[2]:.4f}\")\n",
    "print(f\"DecTree     {dt_metrics[0]:.4f}   {dt_metrics[1]:.4f}    {dt_metrics[2]:.4f}\")\n"
   ]
  },
  {
   "cell_type": "code",
   "execution_count": null,
   "metadata": {},
   "outputs": [
    {
     "data": {
      "image/png": "[encoded data removed]",
      "text/plain": [
       "<Figure size 1000x600 with 1 Axes>"
      ]
     },
     "metadata": {},
     "output_type": "display_data"
    }
   ],
   "source": [
    "metrics_data = {\n",
    "    'Model': ['Gradient Boosting', 'Decision Tree'],\n",
    "    'Accuracy': [0.9967, 0.9936],\n",
    "    'Precision': [0.9968, 0.9958],\n",
    "    'Recall': [0.9993, 0.9966]\n",
    "}\n",
    "\n",
    "metrics_df = pd.DataFrame(metrics_data)\n",
    "\n",
    "metrics_melted = metrics_df.melt(id_vars='Model', value_vars=['Accuracy', 'Precision', 'Recall'], \n",
    "                                   var_name='Metric', value_name='Score')\n",
    "\n",
    "metrics_melted['Score'] = metrics_melted['Score'] * 100\n",
    "\n",
    "\n",
    "plt.figure(figsize=(10, 6))\n",
    "sns.barplot(x='Model', y='Score', hue='Metric', data=metrics_melted, palette='viridis')\n",
    "\n",
    "plt.title('Model Evaluation Metrics Comparison (Percentage)')\n",
    "plt.xlabel('Model')\n",
    "plt.ylabel('Score (%)')\n",
    "plt.ylim(99, 100)\n",
    "plt.grid(axis='y')\n",
    "\n",
    "plt.legend(title='Metrics')\n",
    "plt.show()"
   ]
  }
 ],
 "metadata": {
  "kernelspec": {
   "display_name": "Python 3",
   "language": "python",
   "name": "python3"
  },
  "language_info": {
   "codemirror_mode": {
    "name": "ipython",
    "version": 3
   },
   "file_extension": ".py",
   "mimetype": "text/x-python",
   "name": "python",
   "nbconvert_exporter": "python",
   "pygments_lexer": "ipython3",
   "version": "3.12.5"
  }
 },
 "nbformat": 4,
 "nbformat_minor": 2
}
